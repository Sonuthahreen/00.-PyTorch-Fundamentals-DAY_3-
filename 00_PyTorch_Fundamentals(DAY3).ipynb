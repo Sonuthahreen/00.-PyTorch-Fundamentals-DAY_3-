{
  "nbformat": 4,
  "nbformat_minor": 0,
  "metadata": {
    "colab": {
      "provenance": [],
      "authorship_tag": "ABX9TyMDCl04+PvF0l71kn1e77cC",
      "include_colab_link": true
    },
    "kernelspec": {
      "name": "python3",
      "display_name": "Python 3"
    },
    "language_info": {
      "name": "python"
    }
  },
  "cells": [
    {
      "cell_type": "markdown",
      "metadata": {
        "id": "view-in-github",
        "colab_type": "text"
      },
      "source": [
        "<a href=\"https://colab.research.google.com/github/Sonuthahreen/00.-PyTorch-Fundamentals-DAY_3-/blob/main/00_PyTorch_Fundamentals(DAY3).ipynb\" target=\"_parent\"><img src=\"https://colab.research.google.com/assets/colab-badge.svg\" alt=\"Open In Colab\"/></a>"
      ]
    },
    {
      "cell_type": "markdown",
      "source": [
        "**Reshaping, stacking, squeezing and unsqueezing**\n",
        "\n",
        "* Reshaping - reshapes an input tensor to a defined shape\n",
        "\n",
        "\n",
        "* view -return a view of an input tensor of certain shape but keep the same memory as the ORIGINAL TENSOR\n",
        "\n",
        "\n",
        "* Stacking - combines multiple tensors on type of each other (Vstack) or side by side (hstack)\n",
        "\n",
        "* unsequeeze - add a 1 dimension to a target tensor\n",
        "\n",
        "* squeez - remove all 1 dimension from a tensor\n",
        "\n",
        "* permute-Return a view of the input with dimensions permuted(swapped) in a certain way"
      ],
      "metadata": {
        "id": "lBkJgbOovGrh"
      }
    },
    {
      "cell_type": "code",
      "source": [
        "#creating tensor\n",
        "import torch\n",
        "import pandas as pd\n",
        "import numpy as np\n",
        "import matplotlib.pyplot as plt\n",
        "print(torch.__version__)"
      ],
      "metadata": {
        "colab": {
          "base_uri": "https://localhost:8080/"
        },
        "id": "Hd6YQ0IPviWI",
        "outputId": "ee9c049b-fa34-4d8e-e405-903169b258c4"
      },
      "execution_count": 5,
      "outputs": [
        {
          "output_type": "stream",
          "name": "stdout",
          "text": [
            "2.1.0+cu121\n"
          ]
        }
      ]
    },
    {
      "cell_type": "code",
      "source": [
        "x=torch.arange(1., 10.)\n",
        "x,x.shape"
      ],
      "metadata": {
        "colab": {
          "base_uri": "https://localhost:8080/"
        },
        "id": "aDaWDUIPvcJL",
        "outputId": "3660f665-4baf-4ddd-e3dd-99fc3a25041b"
      },
      "execution_count": 6,
      "outputs": [
        {
          "output_type": "execute_result",
          "data": {
            "text/plain": [
              "(tensor([1., 2., 3., 4., 5., 6., 7., 8., 9.]), torch.Size([9]))"
            ]
          },
          "metadata": {},
          "execution_count": 6
        }
      ]
    },
    {
      "cell_type": "code",
      "source": [
        "#to add an extra dimension\n",
        "x_reshaped=x.reshape(1,9)\n",
        "x_reshaped,x_reshaped.shape"
      ],
      "metadata": {
        "colab": {
          "base_uri": "https://localhost:8080/"
        },
        "id": "zGodyoxbvLkF",
        "outputId": "32086046-6550-41d0-ced7-2510eb5546ba"
      },
      "execution_count": 7,
      "outputs": [
        {
          "output_type": "execute_result",
          "data": {
            "text/plain": [
              "(tensor([[1., 2., 3., 4., 5., 6., 7., 8., 9.]]), torch.Size([1, 9]))"
            ]
          },
          "metadata": {},
          "execution_count": 7
        }
      ]
    },
    {
      "cell_type": "code",
      "source": [
        "#to add an extra dimension\n",
        "x_reshaped=x.reshape(9,1)\n",
        "x_reshaped,x_reshaped.shape"
      ],
      "metadata": {
        "colab": {
          "base_uri": "https://localhost:8080/"
        },
        "id": "WtOeHvYLyg6d",
        "outputId": "5fe4c019-dda6-4616-a5bd-4ddfb8e32ebd"
      },
      "execution_count": 8,
      "outputs": [
        {
          "output_type": "execute_result",
          "data": {
            "text/plain": [
              "(tensor([[1.],\n",
              "         [2.],\n",
              "         [3.],\n",
              "         [4.],\n",
              "         [5.],\n",
              "         [6.],\n",
              "         [7.],\n",
              "         [8.],\n",
              "         [9.]]),\n",
              " torch.Size([9, 1]))"
            ]
          },
          "metadata": {},
          "execution_count": 8
        }
      ]
    },
    {
      "cell_type": "code",
      "source": [
        "x=torch.arange(1.,10.)\n",
        "x,x.shape"
      ],
      "metadata": {
        "colab": {
          "base_uri": "https://localhost:8080/"
        },
        "id": "rwSD6y-Gy18t",
        "outputId": "e7b55884-ef04-4e26-b1bd-8657b6383f20"
      },
      "execution_count": 9,
      "outputs": [
        {
          "output_type": "execute_result",
          "data": {
            "text/plain": [
              "(tensor([1., 2., 3., 4., 5., 6., 7., 8., 9.]), torch.Size([9]))"
            ]
          },
          "metadata": {},
          "execution_count": 9
        }
      ]
    },
    {
      "cell_type": "code",
      "source": [
        "#to add an extra dimension\n",
        "x_reshaped=x.reshape(1,9)\n",
        "x_reshaped,x_reshaped.shape"
      ],
      "metadata": {
        "colab": {
          "base_uri": "https://localhost:8080/"
        },
        "id": "YsMRXwJDynYd",
        "outputId": "18ac195b-36fd-45d7-a2a8-859586d18833"
      },
      "execution_count": null,
      "outputs": [
        {
          "output_type": "execute_result",
          "data": {
            "text/plain": [
              "(tensor([[1., 2., 3., 4., 5., 6., 7., 8., 9.]]), torch.Size([1, 9]))"
            ]
          },
          "metadata": {},
          "execution_count": 21
        }
      ]
    },
    {
      "cell_type": "code",
      "source": [
        "#changing view\n",
        "z=x.view(1,9)\n",
        "z,z.shape"
      ],
      "metadata": {
        "colab": {
          "base_uri": "https://localhost:8080/"
        },
        "id": "uUymN1Kw0V_J",
        "outputId": "acc8e8b1-85a5-4973-9cb0-0765777d5061"
      },
      "execution_count": 10,
      "outputs": [
        {
          "output_type": "execute_result",
          "data": {
            "text/plain": [
              "(tensor([[1., 2., 3., 4., 5., 6., 7., 8., 9.]]), torch.Size([1, 9]))"
            ]
          },
          "metadata": {},
          "execution_count": 10
        }
      ]
    },
    {
      "cell_type": "code",
      "source": [
        "#change in z changes x because a view of a tensor share the same memory as the original input"
      ],
      "metadata": {
        "id": "6FNRuJaj00C3"
      },
      "execution_count": null,
      "outputs": []
    },
    {
      "cell_type": "code",
      "source": [
        "z[:,0]=5\n",
        "z,x"
      ],
      "metadata": {
        "colab": {
          "base_uri": "https://localhost:8080/"
        },
        "id": "WPmlMUft1Wih",
        "outputId": "2797d850-cf5e-4250-e808-8f6d60b99b8d"
      },
      "execution_count": 13,
      "outputs": [
        {
          "output_type": "execute_result",
          "data": {
            "text/plain": [
              "(tensor([[5., 2., 3., 4., 5., 6., 7., 8., 9.]]),\n",
              " tensor([5., 2., 3., 4., 5., 6., 7., 8., 9.]))"
            ]
          },
          "metadata": {},
          "execution_count": 13
        }
      ]
    },
    {
      "cell_type": "code",
      "source": [
        "#stack tensors on top of each other\n",
        "x_stacked=torch.stack([x,x,x,x],dim=1)\n",
        "x_stacked"
      ],
      "metadata": {
        "colab": {
          "base_uri": "https://localhost:8080/"
        },
        "id": "HXpoNppi2Xrm",
        "outputId": "b758766d-8433-4ee8-87f8-89d5b659eb53"
      },
      "execution_count": 14,
      "outputs": [
        {
          "output_type": "execute_result",
          "data": {
            "text/plain": [
              "tensor([[5., 5., 5., 5.],\n",
              "        [2., 2., 2., 2.],\n",
              "        [3., 3., 3., 3.],\n",
              "        [4., 4., 4., 4.],\n",
              "        [5., 5., 5., 5.],\n",
              "        [6., 6., 6., 6.],\n",
              "        [7., 7., 7., 7.],\n",
              "        [8., 8., 8., 8.],\n",
              "        [9., 9., 9., 9.]])"
            ]
          },
          "metadata": {},
          "execution_count": 14
        }
      ]
    },
    {
      "cell_type": "code",
      "source": [
        "#torch.squeeze()-remove all single dimensions from a targettensor\n",
        "print(f\"previous tensor: {x_reshaped}\")\n",
        "print(f\"previous shape: {x_reshaped.shape}\")\n",
        "\n",
        "#remove extra dimensions from x_reshaped\n",
        "x_squeezed=x_reshaped.squeeze()\n",
        "print(f\"\\nNew tensor: {x_squeezed}\")\n",
        "print(f\"New shape: {x_squeezed.shape}\")\n",
        "\n"
      ],
      "metadata": {
        "colab": {
          "base_uri": "https://localhost:8080/"
        },
        "id": "Isli5EVI2xE6",
        "outputId": "677d5b8a-a548-446c-afc4-e99fe09dcfe9"
      },
      "execution_count": 24,
      "outputs": [
        {
          "output_type": "stream",
          "name": "stdout",
          "text": [
            "previous tensor: tensor([[1.],\n",
            "        [2.],\n",
            "        [3.],\n",
            "        [4.],\n",
            "        [5.],\n",
            "        [6.],\n",
            "        [7.],\n",
            "        [8.],\n",
            "        [9.]])\n",
            "previous shape: torch.Size([9, 1])\n",
            "\n",
            "New tensor: tensor([1., 2., 3., 4., 5., 6., 7., 8., 9.])\n",
            "New shape: torch.Size([9])\n"
          ]
        }
      ]
    },
    {
      "cell_type": "code",
      "source": [
        "#torch.unsqueeze()-adds a single dimension to a target tensor at a specific dim\n",
        "print(f\"previous target: {x_reshaped}\")\n",
        "print(f\"previous shape: {x_reshaped.shape}\")\n",
        "\n",
        "#add an extra dimension with unsqueeze\n",
        "x_unsqueezed=x_squeezed.unsqueeze(dim=0)\n",
        "print(f\"\\nNew tensor: {x_unsqueezed}\")\n",
        "print(f\"New shape: {x_unsqueezed.shape}\")\n"
      ],
      "metadata": {
        "colab": {
          "base_uri": "https://localhost:8080/"
        },
        "id": "Uic8XA1F5peh",
        "outputId": "307d0eda-cdc1-4d12-a7ca-c4c05887242f"
      },
      "execution_count": 28,
      "outputs": [
        {
          "output_type": "stream",
          "name": "stdout",
          "text": [
            "previous target: tensor([[1.],\n",
            "        [2.],\n",
            "        [3.],\n",
            "        [4.],\n",
            "        [5.],\n",
            "        [6.],\n",
            "        [7.],\n",
            "        [8.],\n",
            "        [9.]])\n",
            "previous shape: torch.Size([9, 1])\n",
            "\n",
            "New tensor: tensor([[1., 2., 3., 4., 5., 6., 7., 8., 9.]])\n",
            "New shape: torch.Size([1, 9])\n"
          ]
        }
      ]
    },
    {
      "cell_type": "code",
      "source": [
        "#torch.permute-rearranges the dimensions of a target tensor in a specific order\n",
        "x_original=torch.rand(size=(224,224,3)) #[height,width,colour_channels]\n",
        "\n",
        "#permute the original tennsor to rearrange the axis(or dim) order\n",
        "\n",
        "x_permuted =x_original.permute(2,0,1) #shifts axs 0->1, 1->2, 2->0\n",
        "\n",
        "print(f\"previous shape:{x_original.shape}\")\n",
        "print(f\"New shape:{x_permuted.shape}\") #{colour_channel,height,width}\n"
      ],
      "metadata": {
        "colab": {
          "base_uri": "https://localhost:8080/"
        },
        "id": "btbOUkjB6vMF",
        "outputId": "8f129437-aa5e-437a-d28c-2a3d4bf53e70"
      },
      "execution_count": 30,
      "outputs": [
        {
          "output_type": "stream",
          "name": "stdout",
          "text": [
            "previous shape:torch.Size([224, 224, 3])\n",
            "New shape:torch.Size([3, 224, 224])\n"
          ]
        }
      ]
    },
    {
      "cell_type": "code",
      "source": [
        "x_original"
      ],
      "metadata": {
        "colab": {
          "base_uri": "https://localhost:8080/"
        },
        "id": "NmXlgeFM8ZEv",
        "outputId": "af277310-5ba3-4406-ed13-f4f1c72209e6"
      },
      "execution_count": 31,
      "outputs": [
        {
          "output_type": "execute_result",
          "data": {
            "text/plain": [
              "tensor([[[0.7805, 0.5233, 0.2270],\n",
              "         [0.8994, 0.2292, 0.5204],\n",
              "         [0.9010, 0.6712, 0.4608],\n",
              "         ...,\n",
              "         [0.2532, 0.1173, 0.4176],\n",
              "         [0.0681, 0.3867, 0.5987],\n",
              "         [0.7654, 0.4730, 0.3414]],\n",
              "\n",
              "        [[0.2547, 0.5573, 0.2359],\n",
              "         [0.3135, 0.8388, 0.8201],\n",
              "         [0.2065, 0.0767, 0.1664],\n",
              "         ...,\n",
              "         [0.7795, 0.0509, 0.3751],\n",
              "         [0.6139, 0.7473, 0.0585],\n",
              "         [0.9245, 0.1797, 0.4276]],\n",
              "\n",
              "        [[0.3549, 0.6426, 0.8794],\n",
              "         [0.2561, 0.2560, 0.8015],\n",
              "         [0.1835, 0.8882, 0.8296],\n",
              "         ...,\n",
              "         [0.9651, 0.6674, 0.5720],\n",
              "         [0.5093, 0.6396, 0.1515],\n",
              "         [0.1732, 0.5174, 0.1205]],\n",
              "\n",
              "        ...,\n",
              "\n",
              "        [[0.5937, 0.6028, 0.5312],\n",
              "         [0.5566, 0.8981, 0.2856],\n",
              "         [0.9037, 0.7584, 0.9745],\n",
              "         ...,\n",
              "         [0.7978, 0.0718, 0.5892],\n",
              "         [0.7217, 0.4359, 0.9189],\n",
              "         [0.9807, 0.9099, 0.2241]],\n",
              "\n",
              "        [[0.3336, 0.0683, 0.2672],\n",
              "         [0.3884, 0.5511, 0.0164],\n",
              "         [0.9096, 0.3389, 0.2644],\n",
              "         ...,\n",
              "         [0.2194, 0.5626, 0.4095],\n",
              "         [0.7492, 0.7350, 0.0176],\n",
              "         [0.7744, 0.7884, 0.0759]],\n",
              "\n",
              "        [[0.7550, 0.0508, 0.4139],\n",
              "         [0.4395, 0.3297, 0.9932],\n",
              "         [0.5986, 0.7708, 0.9389],\n",
              "         ...,\n",
              "         [0.7224, 0.6334, 0.6068],\n",
              "         [0.5249, 0.4791, 0.6198],\n",
              "         [0.4618, 0.3966, 0.7049]]])"
            ]
          },
          "metadata": {},
          "execution_count": 31
        }
      ]
    },
    {
      "cell_type": "code",
      "source": [
        "x=torch.zeros(2,1,2,1,2)\n",
        "x.size()\n",
        "torch.size([2,1,2,1,2])\n",
        "y=torch.squeeze(x)\n",
        "y.size()\n",
        "y=torch.squeezzze(x,0)\n",
        "y.size()\n",
        "torch.size([2,1,2,1,2])\n",
        "y=torch.squeezzze(x,1)\n",
        "y.size()\n",
        "torch.size([2,1,2,1,2])\n"
      ],
      "metadata": {
        "id": "ghcsQh1w4QwT"
      },
      "execution_count": null,
      "outputs": []
    },
    {
      "cell_type": "code",
      "source": [
        "x_reshaped"
      ],
      "metadata": {
        "colab": {
          "base_uri": "https://localhost:8080/"
        },
        "id": "CBcbEHgG4ViR",
        "outputId": "971c0aeb-a507-4f20-99d6-b1efd38de544"
      },
      "execution_count": 17,
      "outputs": [
        {
          "output_type": "execute_result",
          "data": {
            "text/plain": [
              "tensor([[1.],\n",
              "        [2.],\n",
              "        [3.],\n",
              "        [4.],\n",
              "        [5.],\n",
              "        [6.],\n",
              "        [7.],\n",
              "        [8.],\n",
              "        [9.]])"
            ]
          },
          "metadata": {},
          "execution_count": 17
        }
      ]
    },
    {
      "cell_type": "code",
      "source": [
        "x_reshaped.shape"
      ],
      "metadata": {
        "colab": {
          "base_uri": "https://localhost:8080/"
        },
        "id": "np5vv-Rt4aX0",
        "outputId": "758af777-81e0-4c43-d86d-60470a903c21"
      },
      "execution_count": 18,
      "outputs": [
        {
          "output_type": "execute_result",
          "data": {
            "text/plain": [
              "torch.Size([9, 1])"
            ]
          },
          "metadata": {},
          "execution_count": 18
        }
      ]
    },
    {
      "cell_type": "code",
      "source": [
        "x_reshaped.squeeze()"
      ],
      "metadata": {
        "colab": {
          "base_uri": "https://localhost:8080/"
        },
        "id": "DlcL8CCa4gQa",
        "outputId": "13b84b6d-fb43-4f90-9f88-78d57050ef4e"
      },
      "execution_count": 20,
      "outputs": [
        {
          "output_type": "execute_result",
          "data": {
            "text/plain": [
              "tensor([1., 2., 3., 4., 5., 6., 7., 8., 9.])"
            ]
          },
          "metadata": {},
          "execution_count": 20
        }
      ]
    },
    {
      "cell_type": "code",
      "source": [
        "x_reshaped.squeeze().shape"
      ],
      "metadata": {
        "colab": {
          "base_uri": "https://localhost:8080/"
        },
        "id": "8nDCuqO_4mSh",
        "outputId": "6b699d37-f7c2-42d9-c73d-c2ce2b365aaa"
      },
      "execution_count": 21,
      "outputs": [
        {
          "output_type": "execute_result",
          "data": {
            "text/plain": [
              "torch.Size([9])"
            ]
          },
          "metadata": {},
          "execution_count": 21
        }
      ]
    },
    {
      "cell_type": "markdown",
      "source": [
        "**Indexing (selecting data from tensors)**\n",
        "\n",
        "indexing with PyTorch is similarr to indexing with Numpy"
      ],
      "metadata": {
        "id": "bMk-MWIH8ptB"
      }
    },
    {
      "cell_type": "code",
      "source": [
        "#create a  tensor\n",
        "import torch\n",
        "x=torch.arange(1,10).reshape(1,3,3)\n",
        "x,x.shape"
      ],
      "metadata": {
        "colab": {
          "base_uri": "https://localhost:8080/"
        },
        "id": "1YZ7S37K8-Ez",
        "outputId": "565d609e-b18a-46d3-a118-3a5ea2be261e"
      },
      "execution_count": 34,
      "outputs": [
        {
          "output_type": "execute_result",
          "data": {
            "text/plain": [
              "(tensor([[[1, 2, 3],\n",
              "          [4, 5, 6],\n",
              "          [7, 8, 9]]]),\n",
              " torch.Size([1, 3, 3]))"
            ]
          },
          "metadata": {},
          "execution_count": 34
        }
      ]
    },
    {
      "cell_type": "code",
      "source": [
        "#lets index on our new tensor\n",
        "x[0]"
      ],
      "metadata": {
        "colab": {
          "base_uri": "https://localhost:8080/"
        },
        "id": "Sq7A7aT09RY6",
        "outputId": "cd007965-dfb7-4f52-ba27-79ff5b13c6c0"
      },
      "execution_count": 35,
      "outputs": [
        {
          "output_type": "execute_result",
          "data": {
            "text/plain": [
              "tensor([[1, 2, 3],\n",
              "        [4, 5, 6],\n",
              "        [7, 8, 9]])"
            ]
          },
          "metadata": {},
          "execution_count": 35
        }
      ]
    },
    {
      "cell_type": "code",
      "source": [
        "#index on the middle bracket(dim=1)\n",
        "x[0][0]"
      ],
      "metadata": {
        "colab": {
          "base_uri": "https://localhost:8080/"
        },
        "id": "wRlvylIZ9XJR",
        "outputId": "4f422d6d-3f1e-4e70-e87d-4829a36f1aa9"
      },
      "execution_count": 36,
      "outputs": [
        {
          "output_type": "execute_result",
          "data": {
            "text/plain": [
              "tensor([1, 2, 3])"
            ]
          },
          "metadata": {},
          "execution_count": 36
        }
      ]
    },
    {
      "cell_type": "code",
      "source": [
        "#index on the most inner bracket(last dimension)\n",
        "x[0][0][0]"
      ],
      "metadata": {
        "colab": {
          "base_uri": "https://localhost:8080/"
        },
        "id": "UQEfiDSh9gOT",
        "outputId": "692f64e2-696d-451d-a11b-221635cf3ab1"
      },
      "execution_count": 37,
      "outputs": [
        {
          "output_type": "execute_result",
          "data": {
            "text/plain": [
              "tensor(1)"
            ]
          },
          "metadata": {},
          "execution_count": 37
        }
      ]
    },
    {
      "cell_type": "code",
      "source": [
        "x[0][1][0]"
      ],
      "metadata": {
        "colab": {
          "base_uri": "https://localhost:8080/"
        },
        "id": "YWd2V9Cv95KE",
        "outputId": "95d2be43-7937-4b00-8287-2b76272939d6"
      },
      "execution_count": 40,
      "outputs": [
        {
          "output_type": "execute_result",
          "data": {
            "text/plain": [
              "tensor(4)"
            ]
          },
          "metadata": {},
          "execution_count": 40
        }
      ]
    },
    {
      "cell_type": "code",
      "source": [
        "#we can use also use\":\"to select \"all\" of a target dimension\n",
        "x[:,0]"
      ],
      "metadata": {
        "colab": {
          "base_uri": "https://localhost:8080/"
        },
        "id": "5Tqz5YBD-J6m",
        "outputId": "6fd0f9a1-6c68-401c-f4e2-917838b4f9f9"
      },
      "execution_count": 42,
      "outputs": [
        {
          "output_type": "execute_result",
          "data": {
            "text/plain": [
              "tensor([[1, 2, 3]])"
            ]
          },
          "metadata": {},
          "execution_count": 42
        }
      ]
    },
    {
      "cell_type": "code",
      "source": [
        "#getting all values of )th and 1st dimensions but only index 1 0f 2nd dimension\n",
        "x[:,:,1]"
      ],
      "metadata": {
        "colab": {
          "base_uri": "https://localhost:8080/"
        },
        "id": "S828EzIp-g_8",
        "outputId": "f6b4c0d4-19d2-47cf-c437-31ee628bf442"
      },
      "execution_count": 43,
      "outputs": [
        {
          "output_type": "execute_result",
          "data": {
            "text/plain": [
              "tensor([[2, 5, 8]])"
            ]
          },
          "metadata": {},
          "execution_count": 43
        }
      ]
    },
    {
      "cell_type": "code",
      "source": [
        "#getting all values of the 0 dimensionn but only the 1 index value of 1st and 2nd dimension\n",
        "x[:,1,1]"
      ],
      "metadata": {
        "colab": {
          "base_uri": "https://localhost:8080/"
        },
        "id": "W39WtJdg-yTX",
        "outputId": "2628aa4c-e705-4477-cae1-12970c9ed476"
      },
      "execution_count": 44,
      "outputs": [
        {
          "output_type": "execute_result",
          "data": {
            "text/plain": [
              "tensor([5])"
            ]
          },
          "metadata": {},
          "execution_count": 44
        }
      ]
    },
    {
      "cell_type": "code",
      "source": [
        "#get index 0 of 0th and let dimension and all values of 2nd dimension\n",
        "x[0,0,:]\n"
      ],
      "metadata": {
        "colab": {
          "base_uri": "https://localhost:8080/"
        },
        "id": "3byBN7ny_L39",
        "outputId": "3bfbfa14-47ac-43aa-df1c-3cc84751aa16"
      },
      "execution_count": 45,
      "outputs": [
        {
          "output_type": "execute_result",
          "data": {
            "text/plain": [
              "tensor([1, 2, 3])"
            ]
          },
          "metadata": {},
          "execution_count": 45
        }
      ]
    },
    {
      "cell_type": "markdown",
      "source": [
        "##Pytorch tensors & numpy\n",
        "Numpy is a popular scientific pytho numerical computing library\n",
        "and because of this pytorch has functinality to interact with it\n",
        "\n",
        "* Data in numpy want in pytorch tensor -> 'torch.from_numpy(ndarray)\n",
        "\n",
        "* pytorch ->Numpy->torch.tensor.numpy()"
      ],
      "metadata": {
        "id": "Xwz8QI5l_78D"
      }
    },
    {
      "cell_type": "code",
      "source": [
        "#numpy array to tensor\n",
        "import torch\n",
        "import numpy as np\n",
        "\n",
        "array=np.arange(1.0,8.0)\n",
        "tensor=torch.from_numpy(array)\n",
        "array,tensor"
      ],
      "metadata": {
        "colab": {
          "base_uri": "https://localhost:8080/"
        },
        "id": "yihnZb2RAlu3",
        "outputId": "a7dae4b9-1d5b-4cbb-df79-6d1f528d9fb6"
      },
      "execution_count": 46,
      "outputs": [
        {
          "output_type": "execute_result",
          "data": {
            "text/plain": [
              "(array([1., 2., 3., 4., 5., 6., 7.]),\n",
              " tensor([1., 2., 3., 4., 5., 6., 7.], dtype=torch.float64))"
            ]
          },
          "metadata": {},
          "execution_count": 46
        }
      ]
    },
    {
      "cell_type": "code",
      "source": [
        "array.dtype"
      ],
      "metadata": {
        "colab": {
          "base_uri": "https://localhost:8080/"
        },
        "id": "3SmFaqQKA-nL",
        "outputId": "665ea92d-2f2d-4bd3-e1eb-ccbecade14ae"
      },
      "execution_count": 47,
      "outputs": [
        {
          "output_type": "execute_result",
          "data": {
            "text/plain": [
              "dtype('float64')"
            ]
          },
          "metadata": {},
          "execution_count": 47
        }
      ]
    },
    {
      "cell_type": "code",
      "source": [
        "torch.arange(1.0,8.0).dtype"
      ],
      "metadata": {
        "colab": {
          "base_uri": "https://localhost:8080/"
        },
        "id": "A9COA0-9_dMr",
        "outputId": "56c546b3-512c-4e5b-f23c-16b2d3ac029d"
      },
      "execution_count": 49,
      "outputs": [
        {
          "output_type": "execute_result",
          "data": {
            "text/plain": [
              "torch.float32"
            ]
          },
          "metadata": {},
          "execution_count": 49
        }
      ]
    },
    {
      "cell_type": "code",
      "source": [
        "#change the value of array,what will this do to'tensor'?\n",
        "array=array+1\n",
        "array,tensor"
      ],
      "metadata": {
        "colab": {
          "base_uri": "https://localhost:8080/"
        },
        "id": "jctE6yLv_dbj",
        "outputId": "757f10b9-7d3a-4d98-9d8e-89cf437883d4"
      },
      "execution_count": 50,
      "outputs": [
        {
          "output_type": "execute_result",
          "data": {
            "text/plain": [
              "(array([2., 3., 4., 5., 6., 7., 8.]),\n",
              " tensor([1., 2., 3., 4., 5., 6., 7.], dtype=torch.float64))"
            ]
          },
          "metadata": {},
          "execution_count": 50
        }
      ]
    },
    {
      "cell_type": "code",
      "source": [
        "#tensor to numpy array\n",
        "tensor=torch.ones(7)\n",
        "numpy_tensor=tensor.numpy()\n",
        "tensor,numpy_tensor"
      ],
      "metadata": {
        "colab": {
          "base_uri": "https://localhost:8080/"
        },
        "id": "UpUTJbpG_doD",
        "outputId": "c03982e0-4ab8-4fa5-f036-0cc90610b08b"
      },
      "execution_count": 51,
      "outputs": [
        {
          "output_type": "execute_result",
          "data": {
            "text/plain": [
              "(tensor([1., 1., 1., 1., 1., 1., 1.]),\n",
              " array([1., 1., 1., 1., 1., 1., 1.], dtype=float32))"
            ]
          },
          "metadata": {},
          "execution_count": 51
        }
      ]
    },
    {
      "cell_type": "code",
      "source": [
        "tensor=tensor+1\n",
        "tensor,numpy_tensor"
      ],
      "metadata": {
        "colab": {
          "base_uri": "https://localhost:8080/"
        },
        "id": "k9un64ZN_dr4",
        "outputId": "b734a95f-c0d2-424a-a683-ddeaf3e39c56"
      },
      "execution_count": 52,
      "outputs": [
        {
          "output_type": "execute_result",
          "data": {
            "text/plain": [
              "(tensor([2., 2., 2., 2., 2., 2., 2.]),\n",
              " array([1., 1., 1., 1., 1., 1., 1.], dtype=float32))"
            ]
          },
          "metadata": {},
          "execution_count": 52
        }
      ]
    },
    {
      "cell_type": "markdown",
      "source": [
        "**pytorch Reproducbility**(trying to take random out of random)\n",
        "\n",
        "in short how a neural network learns:\n",
        "\n",
        "'start with random numbers -> tensor operations-> update random numbers to try and make them better representations of data -> again ->again...............\n",
        "\n",
        "To reduce the randomness in neural networks and Pytorch comes the concept of randoom seed . essentially what the random seed does is \"flavour\" the randomness\n"
      ],
      "metadata": {
        "id": "pvgC0K8RCUOt"
      }
    },
    {
      "cell_type": "code",
      "source": [
        "torch.rand(3,3)"
      ],
      "metadata": {
        "colab": {
          "base_uri": "https://localhost:8080/"
        },
        "id": "wbcJ125gC89E",
        "outputId": "94280996-57e1-40ae-e251-6a2f787ecdce"
      },
      "execution_count": 53,
      "outputs": [
        {
          "output_type": "execute_result",
          "data": {
            "text/plain": [
              "tensor([[0.9310, 0.6547, 0.2747],\n",
              "        [0.5025, 0.3120, 0.9703],\n",
              "        [0.8899, 0.4305, 0.8891]])"
            ]
          },
          "metadata": {},
          "execution_count": 53
        }
      ]
    },
    {
      "cell_type": "code",
      "source": [
        "import torch\n",
        "\n",
        "#create two random tensors\n",
        "\n",
        "random_tensor_A=torch.rand(3,4)\n",
        "random_tensor_B=torch.rand(3,4)\n",
        "\n",
        "print(random_tensor_A)\n",
        "print(random_tensor_B)\n",
        "print(random_tensor_A==random_tensor_B)"
      ],
      "metadata": {
        "colab": {
          "base_uri": "https://localhost:8080/"
        },
        "id": "Z2cLaAKbDh5a",
        "outputId": "2d2aab24-2db4-409f-d626-9a27f88cc8f9"
      },
      "execution_count": 54,
      "outputs": [
        {
          "output_type": "stream",
          "name": "stdout",
          "text": [
            "tensor([[0.0881, 0.1001, 0.3204, 0.1876],\n",
            "        [0.7033, 0.1125, 0.4684, 0.4684],\n",
            "        [0.0758, 0.2569, 0.9174, 0.1787]])\n",
            "tensor([[0.7314, 0.3167, 0.8030, 0.1123],\n",
            "        [0.9314, 0.5185, 0.2199, 0.5242],\n",
            "        [0.0354, 0.4977, 0.7568, 0.1217]])\n",
            "tensor([[False, False, False, False],\n",
            "        [False, False, False, False],\n",
            "        [False, False, False, False]])\n"
          ]
        }
      ]
    },
    {
      "cell_type": "code",
      "source": [
        "#lets make some random but reproducible tensors\n",
        "\n",
        "import torch\n",
        "\n",
        "#set the random seed\n",
        "\n",
        "RANDOM_SEED=42\n",
        "torch.manual_seed(RANDOM_SEED)\n",
        "random_tensor_c=torch.rand(3,4)\n",
        "random_tensor_D=torch.rand(3,4)\n",
        "\n",
        "print(random_tensor_c)\n",
        "print(random_tensor_D)\n",
        "print(random_tensor_c==random_tensor_D)\n"
      ],
      "metadata": {
        "colab": {
          "base_uri": "https://localhost:8080/"
        },
        "id": "6lWzZUqqEmRp",
        "outputId": "0c07ad0f-884b-41ef-d931-e36e2460ff83"
      },
      "execution_count": 55,
      "outputs": [
        {
          "output_type": "stream",
          "name": "stdout",
          "text": [
            "tensor([[0.8823, 0.9150, 0.3829, 0.9593],\n",
            "        [0.3904, 0.6009, 0.2566, 0.7936],\n",
            "        [0.9408, 0.1332, 0.9346, 0.5936]])\n",
            "tensor([[0.8694, 0.5677, 0.7411, 0.4294],\n",
            "        [0.8854, 0.5739, 0.2666, 0.6274],\n",
            "        [0.2696, 0.4414, 0.2969, 0.8317]])\n",
            "tensor([[False, False, False, False],\n",
            "        [False, False, False, False],\n",
            "        [False, False, False, False]])\n"
          ]
        }
      ]
    },
    {
      "cell_type": "markdown",
      "source": [
        "**Running tensors ad Pytorch objects on GPU and making faster computations**\n"
      ],
      "metadata": {
        "id": "siFZRN0ZF7PM"
      }
    },
    {
      "cell_type": "markdown",
      "source": [
        "\n",
        "1. Getting a GPU\n",
        "\n",
        "\n",
        "2. Getting PyTorch to run on the GPU\n",
        "\n",
        "\n",
        "3. Putting tensors (and models) on the GPU\n",
        "\n",
        "\n",
        "4. Moving tensors back to the CPU"
      ],
      "metadata": {
        "id": "DDYwjDxUGSc5"
      }
    }
  ]
}